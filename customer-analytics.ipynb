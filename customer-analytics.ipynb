{
 "cells": [
  {
   "cell_type": "code",
   "execution_count": null,
   "metadata": {},
   "outputs": [],
   "source": [
    "%pip install \"dask[complete]\"\n",
    "%pip install squarify"
   ]
  },
  {
   "cell_type": "code",
   "execution_count": 3,
   "metadata": {},
   "outputs": [],
   "source": [
    "import pandas as pd\n",
    "import numpy as np\n",
    "import dask.dataframe as dd\n",
    "import matplotlib\n",
    "import matplotlib.pyplot as plt\n",
    "from datetime import datetime\n",
    "import squarify\n",
    "\n",
    "%matplotlib inline"
   ]
  },
  {
   "cell_type": "markdown",
   "metadata": {},
   "source": [
    "# Read file from Google Cloud Storage\n",
    "---"
   ]
  },
  {
   "cell_type": "code",
   "execution_count": 4,
   "metadata": {},
   "outputs": [],
   "source": [
    "data_oct = dd.read_csv('gs://ecommerce-behavior-data/2019-Oct.csv')\n",
    "data_nov = dd.read_csv('gs://ecommerce-behavior-data/2019-Nov.csv')\n",
    "data_dec = dd.read_csv('gs://ecommerce-behavior-data/2019-Dec.csv')"
   ]
  },
  {
   "cell_type": "markdown",
   "metadata": {},
   "source": [
    "1 Descriptive Analytics\n",
    "---"
   ]
  },
  {
   "cell_type": "markdown",
   "metadata": {},
   "source": [
    "### 1. Number of people visit the site in each month"
   ]
  },
  {
   "cell_type": "code",
   "execution_count": null,
   "metadata": {},
   "outputs": [],
   "source": [
    "oct_visitor = data_oct['user_id'].nunique()\n",
    "nov_visitor = data_nov['user_id'].nunique()\n",
    "dec_visitor = data_dec['user_id'].nunique()\n",
    "\n",
    "print(\"Visitor in october: {}\".format(oct_visitor.compute()))\n",
    "print(\"Visitor in november: {}\".format(nov_visitor.compute()))\n",
    "print(\"Visitor in december: {}\".format(dec_visitor.compute()))"
   ]
  },
  {
   "cell_type": "markdown",
   "metadata": {},
   "source": [
    "### 2. Visitors daily trend"
   ]
  },
  {
   "cell_type": "code",
   "execution_count": null,
   "metadata": {},
   "outputs": [],
   "source": [
    "# October\n",
    "df = data_oct.compute()\n",
    "\n",
    "d = df.loc[:,['event_time', 'user_id']]\n",
    "d['event_time'] = d['event_time'].apply(lambda s: str(s)[0:10])\n",
    "visitor_october = d.drop_duplicates().groupby(['event_time'])['user_id']\n",
    "                                     .agg(['count'])\n",
    "                                     .sort_values(by=['event_time'], ascending=True)\n",
    "\n",
    "del df, d # free memory"
   ]
  },
  {
   "cell_type": "code",
   "execution_count": null,
   "metadata": {},
   "outputs": [],
   "source": [
    "# November\n",
    "df = data_nov.compute()\n",
    "\n",
    "d = df.loc[:,['event_time', 'user_id']]\n",
    "d['event_time'] = d['event_time'].apply(lambda s: str(s)[0:10])\n",
    "visitor_november = d.drop_duplicates().groupby(['event_time'])['user_id']\n",
    "                                      .agg(['count'])\n",
    "                                      .sort_values(by=['event_time'], ascending=True)\n",
    "\n",
    "del df, d # free memory"
   ]
  },
  {
   "cell_type": "code",
   "execution_count": null,
   "metadata": {},
   "outputs": [],
   "source": [
    "# December\n",
    "df = data_dec.compute()\n",
    "\n",
    "d = df.loc[:,['event_time', 'user_id']]\n",
    "d['event_time'] = d['event_time'].apply(lambda s: str(s)[0:10])\n",
    "visitor_december = d.drop_duplicates().groupby(['event_time'])['user_id']\n",
    "                                      .agg(['count'])\n",
    "                                      .sort_values(by=['event_time'], ascending=True)\n",
    "\n",
    "del df, d # free memory"
   ]
  },
  {
   "cell_type": "code",
   "execution_count": null,
   "metadata": {},
   "outputs": [],
   "source": [
    "fig = plt.figure(figsize=(20, 8))\n",
    "ax = fig.add_axes([0, 0, 1, 1])\n",
    "\n",
    "x = pd.Series(range(1, 32))\n",
    "\n",
    "# October\n",
    "y_oct = visitor_october.set_index(x)\n",
    "ax.plot(x, y_oct, label=\"October\")\n",
    "\n",
    "# # November\n",
    "y_nov = visitor_november.append({\"count\": None}, ignore_index=True).set_index(x)\n",
    "ax.plot(x, y_nov, label=\"November\")\n",
    "\n",
    "# December\n",
    "y_dec = visitor_december.set_index(x)\n",
    "ax.plot(x, y_dec, label=\"December\")\n",
    "\n",
    "ax.legend()\n",
    "plt.title(\"Visitors Daily Trend in Q4 2019\")\n",
    "plt.xticks(x)\n",
    "\n",
    "plt.show()"
   ]
  },
  {
   "cell_type": "markdown",
   "metadata": {},
   "source": [
    "### 3. Top 15 category and product"
   ]
  },
  {
   "cell_type": "code",
   "execution_count": 6,
   "metadata": {},
   "outputs": [],
   "source": [
    "# Set top N category\n",
    "top_category_n = 15\n",
    "\n",
    "# Set plot figure size\n",
    "plt.rcParams['figure.figsize'] = (20, 13)"
   ]
  },
  {
   "cell_type": "code",
   "execution_count": null,
   "metadata": {},
   "outputs": [],
   "source": [
    "# October\n",
    "top_category_oct = data_oct.loc[:,'category_code'].compute()\n",
    "top_category_oct = top_category_oct.value_counts()[:top_category_n].sort_values(ascending=False)"
   ]
  },
  {
   "cell_type": "code",
   "execution_count": null,
   "metadata": {},
   "outputs": [],
   "source": [
    "labels = top_category_oct.index.array\n",
    "colors = [plt.cm.Spectral(i/float(len(labels))) for i in range(len(labels))]\n",
    "\n",
    "squarify.plot(sizes=top_category_oct, label=labels, color=colors, alpha=0.8)\n",
    "\n",
    "plt.axis('off')\n",
    "plt.show()"
   ]
  },
  {
   "cell_type": "code",
   "execution_count": null,
   "metadata": {},
   "outputs": [],
   "source": [
    "# November\n",
    "top_category_nov = data_nov.loc[:,'category_code'].compute()\n",
    "top_category_nov = top_category_nov.value_counts()[:top_category_n].sort_values(ascending=False)"
   ]
  },
  {
   "cell_type": "code",
   "execution_count": null,
   "metadata": {},
   "outputs": [],
   "source": [
    "labels = top_category_nov.index.array\n",
    "colors = [plt.cm.Spectral(i/float(len(labels))) for i in range(len(labels))]\n",
    "\n",
    "squarify.plot(sizes=top_category_nov, label=top_category_nov.index.array, alpha=0.8)\n",
    "\n",
    "plt.axis('off')\n",
    "plt.show()"
   ]
  },
  {
   "cell_type": "code",
   "execution_count": 7,
   "metadata": {},
   "outputs": [],
   "source": [
    "# December\n",
    "top_category_dec = data_dec.loc[:,'category_code'].compute()\n",
    "top_category_dec = top_category_dec.value_counts()[:top_category_n].sort_values(ascending=False)"
   ]
  },
  {
   "cell_type": "code",
   "execution_count": 11,
   "metadata": {},
   "outputs": [
    {
     "data": {
      "image/png": "[encoded data removed]",
      "text/plain": [
       "<Figure size 1440x936 with 1 Axes>"
      ]
     },
     "metadata": {
      "needs_background": "light"
     },
     "output_type": "display_data"
    }
   ],
   "source": [
    "labels = top_category_dec.index.array\n",
    "colors = [plt.cm.Spectral(i/float(len(labels))) for i in range(len(labels))]\n",
    "\n",
    "squarify.plot(sizes=top_category_dec, label=top_category_dec.index.array, alpha=0.7)\n",
    "\n",
    "plt.axis('off')\n",
    "plt.show()"
   ]
  },
  {
   "cell_type": "markdown",
   "metadata": {},
   "source": [
    "### 4. Average customer view product before add to cart"
   ]
  },
  {
   "cell_type": "markdown",
   "metadata": {},
   "source": [
    "### 5. Average Order Value (AOV)"
   ]
  },
  {
   "cell_type": "markdown",
   "metadata": {},
   "source": []
  }
 ],
 "metadata": {
  "environment": {
   "name": "common-cpu.m46",
   "type": "gcloud",
   "uri": "gcr.io/deeplearning-platform-release/base-cpu:m46"
  },
  "kernelspec": {
   "display_name": "Python 3",
   "language": "python",
   "name": "python3"
  },
  "language_info": {
   "codemirror_mode": {
    "name": "ipython",
    "version": 3
   },
   "file_extension": ".py",
   "mimetype": "text/x-python",
   "name": "python",
   "nbconvert_exporter": "python",
   "pygments_lexer": "ipython3",
   "version": "3.7.6"
  }
 },
 "nbformat": 4,
 "nbformat_minor": 4
}
